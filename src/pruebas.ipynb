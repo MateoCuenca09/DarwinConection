{
 "cells": [
  {
   "cell_type": "code",
   "execution_count": 34,
   "metadata": {},
   "outputs": [],
   "source": [
    "import pandas as pd\n",
    "df = pd.read_csv('../datos/Activo.csv')"
   ]
  },
  {
   "cell_type": "code",
   "execution_count": 37,
   "metadata": {},
   "outputs": [
    {
     "data": {
      "text/plain": [
       "24"
      ]
     },
     "execution_count": 37,
     "metadata": {},
     "output_type": "execute_result"
    }
   ],
   "source": [
    "df['date'] = df['date'].str.replace('T',' ', regex=False)\n",
    "df['date'] = df['date'].str.replace('Z','', regex=False)\n",
    "\n",
    "df['Fecha'] = pd.to_datetime(df['date'], utc=True, errors='coerce')\n",
    "\n",
    "df['Fecha'] = df['Fecha'] - pd.Timedelta(hours=3)\n",
    "\n",
    "df['Fecha'] = df['Fecha'].dt.strftime('%Y-%m-%d %H:%M:%S')\n",
    "\n",
    "df['Fecha'].isna().sum()"
   ]
  },
  {
   "cell_type": "code",
   "execution_count": 21,
   "metadata": {},
   "outputs": [
    {
     "name": "stderr",
     "output_type": "stream",
     "text": [
      "C:\\Users\\cuenc\\AppData\\Local\\Temp\\ipykernel_15744\\298922056.py:2: SettingWithCopyWarning: \n",
      "A value is trying to be set on a copy of a slice from a DataFrame.\n",
      "Try using .loc[row_indexer,col_indexer] = value instead\n",
      "\n",
      "See the caveats in the documentation: https://pandas.pydata.org/pandas-docs/stable/user_guide/indexing.html#returning-a-view-versus-a-copy\n",
      "  df1['Fecha'] = pd.to_datetime(df1['date'], utc=True, errors='coerce')\n"
     ]
    },
    {
     "data": {
      "text/plain": [
       "24"
      ]
     },
     "execution_count": 21,
     "metadata": {},
     "output_type": "execute_result"
    }
   ],
   "source": [
    "df1 = df.loc[df['Fecha'].isnull()]\n",
    "df1['Fecha'] = pd.to_datetime(df1['date'], utc=True, errors='coerce')\n",
    "\n",
    "df1['Fecha'].isna().sum()"
   ]
  },
  {
   "cell_type": "code",
   "execution_count": 30,
   "metadata": {},
   "outputs": [
    {
     "name": "stdout",
     "output_type": "stream",
     "text": [
      "Número de valores NaN después de la conversión: 24\n",
      "                            _id           user                     date  \\\n",
      "0      664207004b7b0bffed794995  5493516141432  2024-05-13 12:26:40.154   \n",
      "1      664207dc4b7b0bffed794b31  5493516141432  2024-05-13 12:30:20.429   \n",
      "2      664207dc4b7b0bffed794b37         system  2024-05-13 12:30:20.667   \n",
      "3      66434cfa4b7b0bffed7adf86  5493515413537  2024-05-14 11:37:30.138   \n",
      "4      664355fb4b7b0bffed7aebf9  5493515551436  2024-05-14 12:15:55.510   \n",
      "...                         ...            ...                      ...   \n",
      "40456  662a6c36296257410c5543f5         system      2024-04-25 14:44:06   \n",
      "40457  6621af9d296257410c4f3b8f      anonymous      2024-04-18 23:41:17   \n",
      "40458  66227386296257410c4f820c         system      2024-04-19 13:37:10   \n",
      "40459  6622b12b296257410c4feedd         system      2024-04-19 18:00:11   \n",
      "40460  6622d4a9296257410c501c36  5493512324463      2024-04-19 20:31:37   \n",
      "\n",
      "                                                 message  \\\n",
      "0                                                      1   \n",
      "1                                         menú principal   \n",
      "2      Disculpas, no logro entender lo que estás dici...   \n",
      "3                                              cotitular   \n",
      "4                                                      1   \n",
      "...                                                  ...   \n",
      "40456  _¡Hola! Soy el asistente virtual de *GRUPO EDI...   \n",
      "40457                                               Hola   \n",
      "40458             ¿Cuál es tu relación con GRUPO EDISUR?   \n",
      "40459  Ahora, decime el emprendimiento:\\n1. Brisas, Q...   \n",
      "40460                                                  2   \n",
      "\n",
      "                                       room  \\\n",
      "0                             5493516141432   \n",
      "1                             5493516141432   \n",
      "2                             5493516141432   \n",
      "3                             5493515413537   \n",
      "4                             5493515551436   \n",
      "...                                     ...   \n",
      "40456                         5493515743201   \n",
      "40457  d79585b0-3be4-4aa6-aee6-1f7a0f075974   \n",
      "40458                         5493516223682   \n",
      "40459                         5493515108787   \n",
      "40460                         5493512324463   \n",
      "\n",
      "                                     idChat Menu Principal Menu Secundario  \\\n",
      "0                                 311680217       Expensas             NaN   \n",
      "1                                 311680217            NaN             NaN   \n",
      "2                                 311680217            NaN             NaN   \n",
      "3                                 312011846            NaN             NaN   \n",
      "4                                 312021778            NaN             NaN   \n",
      "...                                     ...            ...             ...   \n",
      "40456                             305455574            NaN             NaN   \n",
      "40457  d79585b0-3be4-4aa6-aee6-1f7a0f075974            NaN             NaN   \n",
      "40458                             303192967            NaN             NaN   \n",
      "40459                             303356839            NaN             NaN   \n",
      "40460                             303436381            NaN             NaN   \n",
      "\n",
      "      Menu Terciario Otras Consultas  ...  \\\n",
      "0                NaN             NaN  ...   \n",
      "1                NaN             NaN  ...   \n",
      "2                NaN             NaN  ...   \n",
      "3                NaN             NaN  ...   \n",
      "4                NaN             NaN  ...   \n",
      "...              ...             ...  ...   \n",
      "40456            NaN             NaN  ...   \n",
      "40457            NaN             NaN  ...   \n",
      "40458            NaN             NaN  ...   \n",
      "40459            NaN             NaN  ...   \n",
      "40460            NaN             NaN  ...   \n",
      "\n",
      "                               darwinChatID                       page  \\\n",
      "0                                       NaN                        NaN   \n",
      "1                                       NaN                        NaN   \n",
      "2                                       NaN                        NaN   \n",
      "3                                       NaN                        NaN   \n",
      "4                                       NaN                        NaN   \n",
      "...                                     ...                        ...   \n",
      "40456  5006fa61-cf06-47ee-8d34-9a1255d247e6  Relacion Propietario - A0   \n",
      "40457  a980eaa7-f43d-4340-8459-33c64522048b                        NaN   \n",
      "40458  3460ac4e-85d1-4659-bc69-74b7b7e93df1  Relacion Propietario - A0   \n",
      "40459  f3c34999-ddee-4f2c-83cb-2661f7a83235       Emprendimiento Loteo   \n",
      "40460  1dfa70ed-efea-430c-84e6-7f1d4536c360                      Start   \n",
      "\n",
      "                 agent tags  __v isResolution endpoint typeClose  \\\n",
      "0                  NaN  NaN  NaN          NaN      NaN       NaN   \n",
      "1                  NaN  NaN  NaN          NaN      NaN       NaN   \n",
      "2                  NaN  NaN  NaN          NaN      NaN       NaN   \n",
      "3                  NaN  NaN  NaN          NaN      NaN       NaN   \n",
      "4                  NaN  NaN  NaN          NaN      NaN       NaN   \n",
      "...                ...  ...  ...          ...      ...       ...   \n",
      "40456           edisur   []  0.0        False      NaN       NaN   \n",
      "40457           edisur   []  0.0          NaN      NaN       NaN   \n",
      "40458           edisur   []  0.0        False      NaN       NaN   \n",
      "40459         expensas   []  0.0        False      NaN       NaN   \n",
      "40460  otras-consultas   []  0.0          NaN      NaN       NaN   \n",
      "\n",
      "      cont_message_temp                      Fecha  \n",
      "0                   NaN        2024-05-13 09:26:40  \n",
      "1                   NaN        2024-05-13 09:30:20  \n",
      "2                   NaN        2024-05-13 09:30:20  \n",
      "3                   NaN        2024-05-14 08:37:30  \n",
      "4                   NaN        2024-05-14 09:15:55  \n",
      "...                 ...                        ...  \n",
      "40456               NaN  2024-04-25 14:44:06+00:00  \n",
      "40457               NaN  2024-04-18 23:41:17+00:00  \n",
      "40458               NaN  2024-04-19 13:37:10+00:00  \n",
      "40459               NaN  2024-04-19 18:00:11+00:00  \n",
      "40460               NaN  2024-04-19 20:31:37+00:00  \n",
      "\n",
      "[40461 rows x 25 columns]\n"
     ]
    }
   ],
   "source": [
    "import pandas as pd\n",
    "\n",
    "\n",
    "# Reemplazar 'T' y 'Z' en las fechas\n",
    "df['date'] = df['date'].str.replace('T', ' ', regex=False)\n",
    "df['date'] = df['date'].str.replace('Z', '', regex=False)\n",
    "\n",
    "# Convertir la columna a datetime\n",
    "df['Fecha'] = pd.to_datetime(df['date'], utc=True, errors='coerce')\n",
    "\n",
    "# Restar 3 horas a la columna de fechas\n",
    "df['Fecha'] = df['Fecha'] - pd.Timedelta(hours=3)\n",
    "\n",
    "# Formatear la fecha al formato deseado\n",
    "df['Fecha'] = df['Fecha'].dt.strftime('%Y-%m-%d %H:%M:%S')\n",
    "\n",
    "# Verificar los valores NaN\n",
    "nan_count = df['Fecha'].isna().sum()\n",
    "print(f'Número de valores NaN después de la conversión: {nan_count}')\n",
    "\n",
    "# Crear df1 con los valores NaN en 'Fecha'\n",
    "df1 = df[df['Fecha'].isna()].copy()\n",
    "\n",
    "# Tratar de convertir las fechas en df1 de nuevo (si es necesario)\n",
    "df1['Fecha'] = pd.to_datetime(df1['date'], utc=True, errors='coerce')\n",
    "\n",
    "# Concatenar df y df1 para unirlos\n",
    "df_combined = pd.concat([df.dropna(subset=['Fecha']), df1])\n",
    "\n",
    "# Restablecer el índice si es necesario\n",
    "df_combined.reset_index(drop=True, inplace=True)\n",
    "\n",
    "print(df_combined)\n"
   ]
  },
  {
   "cell_type": "code",
   "execution_count": 11,
   "metadata": {},
   "outputs": [],
   "source": [
    "import pandas as pd\n",
    "df = pd.read_excel('../Crudo.xlsx')"
   ]
  },
  {
   "cell_type": "code",
   "execution_count": 22,
   "metadata": {},
   "outputs": [
    {
     "data": {
      "text/plain": [
       "101     2024-05-15 07:03:34\n",
       "229     2024-05-15 07:03:34\n",
       "100     2024-05-15 07:03:34\n",
       "114     2024-05-15 07:03:34\n",
       "231     2024-05-15 07:03:42\n",
       "               ...         \n",
       "4767    2024-05-18 09:33:05\n",
       "4750    2024-05-18 09:33:08\n",
       "4955    2024-05-18 09:33:08\n",
       "4956    2024-05-18 09:38:11\n",
       "3736    2024-05-18 09:43:11\n",
       "Name: Fecha, Length: 4957, dtype: object"
      ]
     },
     "execution_count": 22,
     "metadata": {},
     "output_type": "execute_result"
    }
   ],
   "source": [
    "import pandas as pd\n",
    "df['Fecha'] = pd.to_datetime(df['date'], utc=True)\n",
    "df['Fecha'] = df['Fecha'] - pd.Timedelta(hours=3)\n",
    "df['Fecha'] = df['Fecha'].dt.strftime('%Y-%m-%d %H:%M:%S')\n",
    "df['Fecha'].sort_values()"
   ]
  },
  {
   "cell_type": "code",
   "execution_count": 4,
   "metadata": {},
   "outputs": [
    {
     "ename": "ClientRequestException",
     "evalue": "('-2147024809, System.ArgumentException', 'serverRelativePath\\r\\nParameter name: El parámetro serverRelativePath no admite el valor especificado.', \"400 Client Error: Bad Request for url: https://grupoedisur.sharepoint.com/_api/Web/getFileByServerRelativePath(DecodedUrl='Darwin%2FExcel%20Darwin%20PBI%20-%20Automatico.xlsx')?$select=ServerRelativePath,Id\")",
     "output_type": "error",
     "traceback": [
      "\u001b[1;31m---------------------------------------------------------------------------\u001b[0m",
      "\u001b[1;31mHTTPError\u001b[0m                                 Traceback (most recent call last)",
      "File \u001b[1;32mc:\\Users\\cuenc\\AppData\\Local\\Programs\\Python\\Python310\\lib\\site-packages\\office365\\runtime\\client_request.py:38\u001b[0m, in \u001b[0;36mClientRequest.execute_query\u001b[1;34m(self, query)\u001b[0m\n\u001b[0;32m     37\u001b[0m response \u001b[38;5;241m=\u001b[39m \u001b[38;5;28mself\u001b[39m\u001b[38;5;241m.\u001b[39mexecute_request_direct(request)\n\u001b[1;32m---> 38\u001b[0m \u001b[43mresponse\u001b[49m\u001b[38;5;241;43m.\u001b[39;49m\u001b[43mraise_for_status\u001b[49m\u001b[43m(\u001b[49m\u001b[43m)\u001b[49m\n\u001b[0;32m     39\u001b[0m \u001b[38;5;28mself\u001b[39m\u001b[38;5;241m.\u001b[39mprocess_response(response, query)\n",
      "File \u001b[1;32mc:\\Users\\cuenc\\AppData\\Local\\Programs\\Python\\Python310\\lib\\site-packages\\requests\\models.py:1021\u001b[0m, in \u001b[0;36mResponse.raise_for_status\u001b[1;34m(self)\u001b[0m\n\u001b[0;32m   1020\u001b[0m \u001b[38;5;28;01mif\u001b[39;00m http_error_msg:\n\u001b[1;32m-> 1021\u001b[0m     \u001b[38;5;28;01mraise\u001b[39;00m HTTPError(http_error_msg, response\u001b[38;5;241m=\u001b[39m\u001b[38;5;28mself\u001b[39m)\n",
      "\u001b[1;31mHTTPError\u001b[0m: 400 Client Error: Bad Request for url: https://grupoedisur.sharepoint.com/_api/Web/getFileByServerRelativePath(DecodedUrl='Darwin%2FExcel%20Darwin%20PBI%20-%20Automatico.xlsx')?$select=ServerRelativePath,Id",
      "\nDuring handling of the above exception, another exception occurred:\n",
      "\u001b[1;31mClientRequestException\u001b[0m                    Traceback (most recent call last)",
      "Cell \u001b[1;32mIn[4], line 22\u001b[0m\n\u001b[0;32m     17\u001b[0m download_path \u001b[38;5;241m=\u001b[39m os\u001b[38;5;241m.\u001b[39mpath\u001b[38;5;241m.\u001b[39mjoin(tempfile\u001b[38;5;241m.\u001b[39mmkdtemp(), os\u001b[38;5;241m.\u001b[39mpath\u001b[38;5;241m.\u001b[39mbasename(file_url))\n\u001b[0;32m     18\u001b[0m \u001b[38;5;28;01mwith\u001b[39;00m \u001b[38;5;28mopen\u001b[39m(download_path, \u001b[38;5;124m\"\u001b[39m\u001b[38;5;124mwb\u001b[39m\u001b[38;5;124m\"\u001b[39m) \u001b[38;5;28;01mas\u001b[39;00m local_file:\n\u001b[0;32m     19\u001b[0m     file \u001b[38;5;241m=\u001b[39m (\n\u001b[0;32m     20\u001b[0m         \u001b[43mctx\u001b[49m\u001b[38;5;241;43m.\u001b[39;49m\u001b[43mweb\u001b[49m\u001b[38;5;241;43m.\u001b[39;49m\u001b[43mget_file_by_server_relative_path\u001b[49m\u001b[43m(\u001b[49m\u001b[43mfile_url\u001b[49m\u001b[43m)\u001b[49m\n\u001b[0;32m     21\u001b[0m \u001b[43m        \u001b[49m\u001b[38;5;241;43m.\u001b[39;49m\u001b[43mdownload\u001b[49m\u001b[43m(\u001b[49m\u001b[43mlocal_file\u001b[49m\u001b[43m)\u001b[49m\n\u001b[1;32m---> 22\u001b[0m \u001b[43m        \u001b[49m\u001b[38;5;241;43m.\u001b[39;49m\u001b[43mexecute_query\u001b[49m\u001b[43m(\u001b[49m\u001b[43m)\u001b[49m\n\u001b[0;32m     23\u001b[0m     )\n\u001b[0;32m     24\u001b[0m     \u001b[38;5;28mprint\u001b[39m(\u001b[38;5;124m\"\u001b[39m\u001b[38;5;124m[Ok] file has been downloaded into: \u001b[39m\u001b[38;5;132;01m{0}\u001b[39;00m\u001b[38;5;124m\"\u001b[39m\u001b[38;5;241m.\u001b[39mformat(download_path))\n",
      "File \u001b[1;32mc:\\Users\\cuenc\\AppData\\Local\\Programs\\Python\\Python310\\lib\\site-packages\\office365\\runtime\\client_object.py:53\u001b[0m, in \u001b[0;36mClientObject.execute_query\u001b[1;34m(self)\u001b[0m\n\u001b[0;32m     50\u001b[0m \u001b[38;5;28;01mdef\u001b[39;00m \u001b[38;5;21mexecute_query\u001b[39m(\u001b[38;5;28mself\u001b[39m):\n\u001b[0;32m     51\u001b[0m     \u001b[38;5;66;03m# type: () -> Self\u001b[39;00m\n\u001b[0;32m     52\u001b[0m \u001b[38;5;250m    \u001b[39m\u001b[38;5;124;03m\"\"\"Submit request(s) to the server.\"\"\"\u001b[39;00m\n\u001b[1;32m---> 53\u001b[0m     \u001b[38;5;28;43mself\u001b[39;49m\u001b[38;5;241;43m.\u001b[39;49m\u001b[43mcontext\u001b[49m\u001b[38;5;241;43m.\u001b[39;49m\u001b[43mexecute_query\u001b[49m\u001b[43m(\u001b[49m\u001b[43m)\u001b[49m\n\u001b[0;32m     54\u001b[0m     \u001b[38;5;28;01mreturn\u001b[39;00m \u001b[38;5;28mself\u001b[39m\n",
      "File \u001b[1;32mc:\\Users\\cuenc\\AppData\\Local\\Programs\\Python\\Python310\\lib\\site-packages\\office365\\runtime\\client_runtime_context.py:173\u001b[0m, in \u001b[0;36mClientRuntimeContext.execute_query\u001b[1;34m(self)\u001b[0m\n\u001b[0;32m    171\u001b[0m \u001b[38;5;28;01mwhile\u001b[39;00m \u001b[38;5;28mself\u001b[39m\u001b[38;5;241m.\u001b[39mhas_pending_request:\n\u001b[0;32m    172\u001b[0m     qry \u001b[38;5;241m=\u001b[39m \u001b[38;5;28mself\u001b[39m\u001b[38;5;241m.\u001b[39m_get_next_query()\n\u001b[1;32m--> 173\u001b[0m     \u001b[38;5;28;43mself\u001b[39;49m\u001b[38;5;241;43m.\u001b[39;49m\u001b[43mpending_request\u001b[49m\u001b[43m(\u001b[49m\u001b[43m)\u001b[49m\u001b[38;5;241;43m.\u001b[39;49m\u001b[43mexecute_query\u001b[49m\u001b[43m(\u001b[49m\u001b[43mqry\u001b[49m\u001b[43m)\u001b[49m\n\u001b[0;32m    174\u001b[0m \u001b[38;5;28;01mreturn\u001b[39;00m \u001b[38;5;28mself\u001b[39m\n",
      "File \u001b[1;32mc:\\Users\\cuenc\\AppData\\Local\\Programs\\Python\\Python310\\lib\\site-packages\\office365\\runtime\\client_request.py:42\u001b[0m, in \u001b[0;36mClientRequest.execute_query\u001b[1;34m(self, query)\u001b[0m\n\u001b[0;32m     40\u001b[0m     \u001b[38;5;28mself\u001b[39m\u001b[38;5;241m.\u001b[39mafterExecute\u001b[38;5;241m.\u001b[39mnotify(response)\n\u001b[0;32m     41\u001b[0m \u001b[38;5;28;01mexcept\u001b[39;00m HTTPError \u001b[38;5;28;01mas\u001b[39;00m e:\n\u001b[1;32m---> 42\u001b[0m     \u001b[38;5;28;01mraise\u001b[39;00m ClientRequestException(\u001b[38;5;241m*\u001b[39me\u001b[38;5;241m.\u001b[39margs, response\u001b[38;5;241m=\u001b[39me\u001b[38;5;241m.\u001b[39mresponse)\n",
      "\u001b[1;31mClientRequestException\u001b[0m: ('-2147024809, System.ArgumentException', 'serverRelativePath\\r\\nParameter name: El parámetro serverRelativePath no admite el valor especificado.', \"400 Client Error: Bad Request for url: https://grupoedisur.sharepoint.com/_api/Web/getFileByServerRelativePath(DecodedUrl='Darwin%2FExcel%20Darwin%20PBI%20-%20Automatico.xlsx')?$select=ServerRelativePath,Id\")"
     ]
    }
   ],
   "source": [
    "\"\"\"\n",
    "Demonstrates how to download a file from SharePoint site\n",
    "\"\"\"\n",
    "import os\n",
    "import tempfile\n",
    "\n",
    "from office365.sharepoint.client_context import ClientContext\n",
    "\n",
    "test_team_site_url = 'https://grupoedisur.sharepoint.com/'\n",
    "\n",
    "\n",
    "ctx = ClientContext(test_team_site_url).with_user_credentials('mcuenca@grupoedisur.com.ar', 'Cordoba2024')\n",
    "# file_url = \"Shared Documents/Sample.pdf\"\n",
    "# file_url = \"Shared Documents/big_buck_bunny.mp4\"\n",
    "# file_url = \"Shared Documents/Financial Sample.xlsx\"\n",
    "file_url = \"Darwin/Excel Darwin PBI - Automatico.xlsx\"\n",
    "download_path = os.path.join(tempfile.mkdtemp(), os.path.basename(file_url))\n",
    "with open(download_path, \"wb\") as local_file:\n",
    "    file = (\n",
    "        ctx.web.get_file_by_server_relative_path(file_url)\n",
    "        .download(local_file)\n",
    "        .execute_query()\n",
    "    )\n",
    "    print(\"[Ok] file has been downloaded into: {0}\".format(download_path))"
   ]
  },
  {
   "cell_type": "code",
   "execution_count": 2,
   "metadata": {},
   "outputs": [
    {
     "ename": "ValueError",
     "evalue": "",
     "output_type": "error",
     "traceback": [
      "\u001b[1;31m---------------------------------------------------------------------------\u001b[0m",
      "\u001b[1;31mValueError\u001b[0m                                Traceback (most recent call last)",
      "Cell \u001b[1;32mIn[2], line 17\u001b[0m\n\u001b[0;32m     15\u001b[0m ctx \u001b[38;5;241m=\u001b[39m ClientContext(\u001b[38;5;124m\"\u001b[39m\u001b[38;5;124mhttps://grupoedisur.sharepoint.com\u001b[39m\u001b[38;5;124m\"\u001b[39m, ctx_auth)\n\u001b[0;32m     16\u001b[0m \u001b[38;5;66;03m# Obtener el contenido del archivo CSV\u001b[39;00m\n\u001b[1;32m---> 17\u001b[0m response \u001b[38;5;241m=\u001b[39m \u001b[43mctx\u001b[49m\u001b[38;5;241;43m.\u001b[39;49m\u001b[43mweb\u001b[49m\u001b[38;5;241;43m.\u001b[39;49m\u001b[43mget_file_by_server_relative_path\u001b[49m\u001b[43m(\u001b[49m\u001b[43mfile_url\u001b[49m\u001b[43m)\u001b[49m\u001b[38;5;241;43m.\u001b[39;49m\u001b[43mread\u001b[49m\u001b[43m(\u001b[49m\u001b[43m)\u001b[49m\u001b[38;5;241m.\u001b[39mexecute_query()\n\u001b[0;32m     19\u001b[0m \u001b[38;5;66;03m# Leer el contenido del archivo CSV en un DataFrame de pandas\u001b[39;00m\n\u001b[0;32m     20\u001b[0m content \u001b[38;5;241m=\u001b[39m response\u001b[38;5;241m.\u001b[39mcontent\u001b[38;5;241m.\u001b[39mdecode(\u001b[38;5;124m'\u001b[39m\u001b[38;5;124mutf-8-sig\u001b[39m\u001b[38;5;124m'\u001b[39m)\n",
      "File \u001b[1;32mc:\\Users\\cuenc\\AppData\\Local\\Programs\\Python\\Python310\\lib\\site-packages\\office365\\sharepoint\\files\\file.py:43\u001b[0m, in \u001b[0;36mAbstractFile.read\u001b[1;34m(self)\u001b[0m\n\u001b[0;32m     41\u001b[0m \u001b[38;5;250m\u001b[39m\u001b[38;5;124;03m\"\"\"Immediately read content of file\"\"\"\u001b[39;00m\n\u001b[0;32m     42\u001b[0m \u001b[38;5;28;01mif\u001b[39;00m \u001b[38;5;129;01mnot\u001b[39;00m \u001b[38;5;28mself\u001b[39m\u001b[38;5;241m.\u001b[39mis_property_available(\u001b[38;5;124m\"\u001b[39m\u001b[38;5;124mServerRelativeUrl\u001b[39m\u001b[38;5;124m\"\u001b[39m):\n\u001b[1;32m---> 43\u001b[0m     \u001b[38;5;28;01mraise\u001b[39;00m \u001b[38;5;167;01mValueError\u001b[39;00m\n\u001b[0;32m     44\u001b[0m response \u001b[38;5;241m=\u001b[39m File\u001b[38;5;241m.\u001b[39mopen_binary(\u001b[38;5;28mself\u001b[39m\u001b[38;5;241m.\u001b[39mcontext, \u001b[38;5;28mself\u001b[39m\u001b[38;5;241m.\u001b[39mproperties[\u001b[38;5;124m\"\u001b[39m\u001b[38;5;124mServerRelativeUrl\u001b[39m\u001b[38;5;124m\"\u001b[39m])\n\u001b[0;32m     45\u001b[0m \u001b[38;5;28;01mreturn\u001b[39;00m response\u001b[38;5;241m.\u001b[39mcontent\n",
      "\u001b[1;31mValueError\u001b[0m: "
     ]
    }
   ],
   "source": [
    "import pandas as pd\n",
    "from office365.runtime.auth.authentication_context import AuthenticationContext\n",
    "from office365.sharepoint.client_context import ClientContext\n",
    "\n",
    "# URL del archivo CSV en SharePoint\n",
    "file_url = 'https://grupoedisur-my.sharepoint.com/:x:/g/personal/mcuenca_grupoedisur_com_ar/EeTrSHlZP4FEo4Mu9PVh95IBj3XKwFsX2jsTVvLc7pzlZA?e=aIvHpi'\n",
    "\n",
    "# Credenciales de autenticación (reemplaza con tus propias credenciales)\n",
    "username = 'mcuenca@grupoedisur.com.ar'\n",
    "password = 'Cordoba2024'\n",
    "\n",
    "# Contexto de autenticación\n",
    "ctx_auth = AuthenticationContext(url=\"https://grupoedisur.sharepoint.com\")\n",
    "if ctx_auth.acquire_token_for_user(username=username, password=password):\n",
    "    ctx = ClientContext(\"https://grupoedisur.sharepoint.com\", ctx_auth)\n",
    "    # Obtener el contenido del archivo CSV\n",
    "    response = ctx.web.get_file_by_server_relative_path(file_url).read().execute_query()\n",
    "\n",
    "    # Leer el contenido del archivo CSV en un DataFrame de pandas\n",
    "    content = response.content.decode('utf-8-sig')\n",
    "    df = pd.read_csv(pd.compat.StringIO(content))\n",
    "    \n",
    "    # Mostrar los primeros registros del DataFrame\n",
    "    print(df.head())\n",
    "else:\n",
    "    print(\"Error de autenticación\")\n"
   ]
  },
  {
   "cell_type": "code",
   "execution_count": null,
   "metadata": {},
   "outputs": [],
   "source": [
    "import pandas as pd\n",
    "df = pd.read_csv('01-2024.csv')\n",
    "\n",
    "if len(df) > 3:\n",
    "    print(\"El DataFrame tiene más de 3 filas.\")\n",
    "else:\n",
    "    print(\"El DataFrame no tiene más de 3 filas.\")"
   ]
  }
 ],
 "metadata": {
  "kernelspec": {
   "display_name": "Python 3",
   "language": "python",
   "name": "python3"
  },
  "language_info": {
   "codemirror_mode": {
    "name": "ipython",
    "version": 3
   },
   "file_extension": ".py",
   "mimetype": "text/x-python",
   "name": "python",
   "nbconvert_exporter": "python",
   "pygments_lexer": "ipython3",
   "version": "3.10.7"
  }
 },
 "nbformat": 4,
 "nbformat_minor": 2
}
