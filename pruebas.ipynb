{
 "cells": [
  {
   "attachments": {},
   "cell_type": "markdown",
   "metadata": {},
   "source": [
    "Otras Consultas Pruebas"
   ]
  },
  {
   "cell_type": "code",
   "execution_count": 3,
   "metadata": {},
   "outputs": [
    {
     "name": "stdout",
     "output_type": "stream",
     "text": [
      "    columna_busqueda  columna_resultado\n",
      "0  texto1 y algo más                1.0\n",
      "1   texto2 adicional                NaN\n",
      "2        algo texto3                1.0\n",
      "3        texto1 aquí                1.0\n",
      "4       texto4 extra                NaN\n"
     ]
    }
   ],
   "source": [
    "import pandas as pd\n",
    "\n",
    "# Crear un DataFrame de ejemplo\n",
    "data = pd.DataFrame({\n",
    "    \"columna_busqueda\": [\"texto1 y algo más\", \"texto2 adicional\", \"algo texto3\", \"texto1 aquí\", \"texto4 extra\"]\n",
    "})\n",
    "\n",
    "# Lista de palabras clave a buscar\n",
    "palabras_clave = [\"texto1\", \"texto3\"]\n",
    "\n",
    "# Valor a asignar en columna_resultado\n",
    "valor_asignar = 1\n",
    "\n",
    "def buscar_palabras(df, palabras_clave, valor_asignar):\n",
    "    try:\n",
    "        # Iterar a través de cada fila del dfFrame\n",
    "        for index, row in df.iterrows():\n",
    "            for palabra in palabras_clave:\n",
    "                if palabra in row[\"message\"]:\n",
    "                    df.at[index, \"Otras Consultas\"] = valor_asignar\n",
    "    except Exception as e:\n",
    "        print(\"Error buscar_palabras(): \",e)\n",
    "\n",
    "print(data)\n"
   ]
  },
  {
   "cell_type": "code",
   "execution_count": 7,
   "metadata": {},
   "outputs": [
    {
     "name": "stdout",
     "output_type": "stream",
     "text": [
      "['abonar expensa', 'abonar las expensa', 'adeuda de expensa', 'aumento de expensas', 'autogestion', 'autogestion expensas', 'bajar las expensas', 'cobrar las expensas', 'cobrar expensas', 'codigo electronico', 'cupon', 'cupon de expensas', 'cupon de pago', 'descargar las expensas', 'deuda de expensas', 'expensas anteriores', 'expensa corriente', 'expensa inactiva', 'expensa vigente', 'id', 'id de expensa', 'id expensa', 'importe de expensas', 'inactiva', 'libre deuda de expensas', 'mercado pago', 'numero de id', 'pagar expensas', 'pagar las expensas', 'pago electronico', 'pago mis cuentas', 'tema de expensas', 'ultima expensa', 'ultimas expensas', 'vencimiento']\n"
     ]
    }
   ],
   "source": [
    "from unidecode import unidecode\n",
    "palabras_clave = [\n",
    "    'abonar expensa',\n",
    "    'abonar las expensa',\n",
    "    'adeuda de expensa',\n",
    "    'aumento de expensas',\n",
    "    'autogestión',\n",
    "    'autogestion expensas',\n",
    "    'bajar las expensas',\n",
    "    'cobrar las expensas',\n",
    "    'cobrar expensas',\n",
    "    'código electronico',\n",
    "    'cupon',\n",
    "    'cupon de expensas',\n",
    "    'cupón de pago',\n",
    "    'descargar las expensas',\n",
    "    'deuda de expensas',\n",
    "    'expensas anteriores',\n",
    "    'Expensa corriente',\n",
    "    'expensa inactiva',\n",
    "    'expensa vigente',\n",
    "    'ID',\n",
    "    'ID de expensa',\n",
    "    'ID expensa',\n",
    "    'importe de expensas',\n",
    "    'inactiva',\n",
    "    'libre deuda de expensas',\n",
    "    'mercado pago',\n",
    "    'numero de ID',\n",
    "    'pagar expensas',\n",
    "    'pagar las expensas',\n",
    "    'pago electronico',\n",
    "    'pago mis cuentas',\n",
    "    'tema de expensas',\n",
    "    'última expensa',\n",
    "    'últimas expensas',\n",
    "    'vencimiento'\n",
    "]\n",
    "\n",
    "# Convertir elementos a minúsculas\n",
    "lista_minusculas = [elemento.lower() for elemento in palabras_clave]\n",
    "\n",
    "lista_sin_acentos = [unidecode(elemento) for elemento in lista_minusculas]\n",
    "\n",
    "# Imprimir la nueva lista en minúsculas\n",
    "print(lista_sin_acentos)"
   ]
  }
 ],
 "metadata": {
  "kernelspec": {
   "display_name": "Python 3",
   "language": "python",
   "name": "python3"
  },
  "language_info": {
   "codemirror_mode": {
    "name": "ipython",
    "version": 3
   },
   "file_extension": ".py",
   "mimetype": "text/x-python",
   "name": "python",
   "nbconvert_exporter": "python",
   "pygments_lexer": "ipython3",
   "version": "3.10.7"
  },
  "orig_nbformat": 4
 },
 "nbformat": 4,
 "nbformat_minor": 2
}
