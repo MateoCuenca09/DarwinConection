{
 "cells": [
  {
   "attachments": {},
   "cell_type": "markdown",
   "metadata": {},
   "source": [
    "Otras Consultas Pruebas"
   ]
  },
  {
   "cell_type": "code",
   "execution_count": 1,
   "metadata": {},
   "outputs": [
    {
     "name": "stdout",
     "output_type": "stream",
     "text": [
      "  columna_busqueda  columna_resultado\n",
      "0           texto1                  1\n",
      "1           texto2                  0\n",
      "2           texto3                  1\n",
      "3           texto1                  1\n",
      "4           texto4                  0\n"
     ]
    }
   ],
   "source": [
    "import pandas as pd\n",
    "\n",
    "# Crear un DataFrame de ejemplo\n",
    "data = pd.DataFrame({\n",
    "    \"columna_busqueda\": [\"texto1\", \"texto2\", \"texto3\", \"texto1\", \"texto4\"],\n",
    "    \"columna_resultado\": [0, 0, 0, 0, 0]\n",
    "})\n",
    "\n",
    "# Lista de cadenas de texto a buscar\n",
    "cadenas_a_buscar = [\"texto1\", \"texto3\"]\n",
    "\n",
    "# Valor a asignar en columna_resultado\n",
    "valor_asignar = 1\n",
    "\n",
    "# Iterar a través de cada fila del DataFrame\n",
    "for index, row in data.iterrows():\n",
    "    if row[\"columna_busqueda\"] in cadenas_a_buscar:\n",
    "        data.at[index, \"columna_resultado\"] = valor_asignar\n",
    "\n",
    "print(data)"
   ]
  }
 ],
 "metadata": {
  "kernelspec": {
   "display_name": "Python 3",
   "language": "python",
   "name": "python3"
  },
  "language_info": {
   "codemirror_mode": {
    "name": "ipython",
    "version": 3
   },
   "file_extension": ".py",
   "mimetype": "text/x-python",
   "name": "python",
   "nbconvert_exporter": "python",
   "pygments_lexer": "ipython3",
   "version": "3.10.7"
  },
  "orig_nbformat": 4
 },
 "nbformat": 4,
 "nbformat_minor": 2
}
